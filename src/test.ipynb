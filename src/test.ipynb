{
 "cells": [
  {
   "cell_type": "code",
   "execution_count": 15,
   "metadata": {},
   "outputs": [
    {
     "name": "stdout",
     "output_type": "stream",
     "text": [
      "The autoreload extension is already loaded. To reload it, use:\n",
      "  %reload_ext autoreload\n"
     ]
    }
   ],
   "source": [
    "#-.- coding=UTF-8 -.-\n",
    "import numpy as np\n",
    "import pandas as pd\n",
    "from CSDS.processing import *\n",
    "\n",
    "%load_ext autoreload\n",
    "%autoreload 2"
   ]
  },
  {
   "cell_type": "code",
   "execution_count": 16,
   "metadata": {},
   "outputs": [],
   "source": [
    "data_file = 'CSDS/data/2017-2018-2-graduate.xls'\n",
    "data = readfile(data_file)"
   ]
  },
  {
   "cell_type": "code",
   "execution_count": 17,
   "metadata": {},
   "outputs": [
    {
     "data": {
      "text/html": [
       "<div>\n",
       "<table border=\"1\" class=\"dataframe\">\n",
       "  <thead>\n",
       "    <tr style=\"text-align: right;\">\n",
       "      <th></th>\n",
       "      <th>开课院系</th>\n",
       "      <th>课程号</th>\n",
       "      <th>课序号</th>\n",
       "      <th>课程名</th>\n",
       "      <th>学分</th>\n",
       "      <th>任课教师</th>\n",
       "      <th>课容量</th>\n",
       "      <th>上课时间</th>\n",
       "      <th>上课周次</th>\n",
       "      <th>课程特色</th>\n",
       "      <th>选课说明</th>\n",
       "    </tr>\n",
       "  </thead>\n",
       "  <tbody>\n",
       "    <tr>\n",
       "      <th>0</th>\n",
       "      <td>马克思主义学院</td>\n",
       "      <td>80680113</td>\n",
       "      <td>0</td>\n",
       "      <td>《德意志意识形态》研究</td>\n",
       "      <td>3</td>\n",
       "      <td>李成旺</td>\n",
       "      <td>20</td>\n",
       "      <td>34,35</td>\n",
       "      <td>全周</td>\n",
       "      <td>NaN</td>\n",
       "      <td>NaN</td>\n",
       "    </tr>\n",
       "    <tr>\n",
       "      <th>1</th>\n",
       "      <td>人文学院</td>\n",
       "      <td>80615503</td>\n",
       "      <td>0</td>\n",
       "      <td>《说文》导读（下）</td>\n",
       "      <td>3</td>\n",
       "      <td>赵平安</td>\n",
       "      <td>25</td>\n",
       "      <td>32</td>\n",
       "      <td>全周</td>\n",
       "      <td>NaN</td>\n",
       "      <td>NaN</td>\n",
       "    </tr>\n",
       "    <tr>\n",
       "      <th>2</th>\n",
       "      <td>人文学院</td>\n",
       "      <td>90610112</td>\n",
       "      <td>0</td>\n",
       "      <td>20世纪中西文学思潮比较专题</td>\n",
       "      <td>2</td>\n",
       "      <td>解志熙</td>\n",
       "      <td>25</td>\n",
       "      <td>42</td>\n",
       "      <td>全周</td>\n",
       "      <td>NaN</td>\n",
       "      <td>优先:人文学院学生选课</td>\n",
       "    </tr>\n",
       "    <tr>\n",
       "      <th>3</th>\n",
       "      <td>电子系</td>\n",
       "      <td>80230082</td>\n",
       "      <td>0</td>\n",
       "      <td>C/UNIX程序设计</td>\n",
       "      <td>2</td>\n",
       "      <td>汪玉</td>\n",
       "      <td>40</td>\n",
       "      <td>13</td>\n",
       "      <td>全周</td>\n",
       "      <td>NaN</td>\n",
       "      <td>先修C程序、操作系统</td>\n",
       "    </tr>\n",
       "    <tr>\n",
       "      <th>4</th>\n",
       "      <td>电子系</td>\n",
       "      <td>80230512</td>\n",
       "      <td>0</td>\n",
       "      <td>CDMA系统工程</td>\n",
       "      <td>2</td>\n",
       "      <td>粟欣</td>\n",
       "      <td>30</td>\n",
       "      <td>33</td>\n",
       "      <td>全周</td>\n",
       "      <td>NaN</td>\n",
       "      <td>先修通信原理、信号与系统</td>\n",
       "    </tr>\n",
       "  </tbody>\n",
       "</table>\n",
       "</div>"
      ],
      "text/plain": [
       "      开课院系       课程号  课序号             课程名  学分 任课教师  课容量   上课时间 上课周次 课程特色  \\\n",
       "0  马克思主义学院  80680113    0     《德意志意识形态》研究   3  李成旺   20  34,35   全周  NaN   \n",
       "1     人文学院  80615503    0       《说文》导读（下）   3  赵平安   25     32   全周  NaN   \n",
       "2     人文学院  90610112    0  20世纪中西文学思潮比较专题   2  解志熙   25     42   全周  NaN   \n",
       "3      电子系  80230082    0      C/UNIX程序设计   2   汪玉   40     13   全周  NaN   \n",
       "4      电子系  80230512    0        CDMA系统工程   2   粟欣   30     33   全周  NaN   \n",
       "\n",
       "           选课说明  \n",
       "0           NaN  \n",
       "1           NaN  \n",
       "2   优先:人文学院学生选课  \n",
       "3    先修C程序、操作系统  \n",
       "4  先修通信原理、信号与系统  "
      ]
     },
     "execution_count": 17,
     "metadata": {},
     "output_type": "execute_result"
    }
   ],
   "source": [
    "data.head()"
   ]
  },
  {
   "cell_type": "code",
   "execution_count": 37,
   "metadata": {},
   "outputs": [
    {
     "name": "stdout",
     "output_type": "stream",
     "text": [
      "[u'\\u9a6c\\u514b\\u601d\\u4e3b\\u4e49\\u5b66\\u9662', u'\\u4eba\\u6587\\u5b66\\u9662', u'\\u7535\\u5b50\\u7cfb', u'\\u7f8e\\u672f\\u5b66\\u9662', u'\\u7ecf\\u7ba1\\u5b66\\u9662', u'\\u7535\\u673a\\u7cfb', u'\\u516c\\u7ba1\\u5b66\\u9662', u'\\u5fae\\u7eb3\\u7535\\u5b50\\u7cfb', u'\\u751f\\u547d\\u5b66\\u9662', u'\\u8ba1\\u7b97\\u673a\\u7cfb', u'\\u6cd5\\u5b66\\u9662', u'\\u5316\\u5b66\\u7cfb', u'\\u6750\\u6599\\u5b66\\u9662', u'\\u5de5\\u4e1a\\u5de5\\u7a0b', u'\\u6559\\u7814\\u9662', u'\\u793e\\u79d1\\u5b66\\u9662', u'\\u82cf\\u4e16\\u6c11\\u4e66\\u9662', u'\\u5316\\u5de5\\u7cfb', u'\\u8f6f\\u4ef6\\u5b66\\u9662', u'\\u533b\\u5b66\\u9662', u'\\u91d1\\u878d\\u5b66\\u9662', u'\\u5916\\u6587\\u7cfb', u'\\u6570\\u5b66\\u7cfb', u'\\u822a\\u9662', u'\\u65b0\\u95fb\\u5b66\\u9662', u'\\u7269\\u7406\\u7cfb', u'\\u7cbe\\u4eea\\u7cfb', u'\\u5efa\\u7b51\\u5b66\\u9662', u'\\u73af\\u5883\\u5b66\\u9662', u'\\u4ea4\\u53c9\\u4fe1\\u606f\\u9662', u'\\u571f\\u6728\\u7cfb', u'\\u5730\\u5b66\\u7cfb', u'\\u81ea\\u52a8\\u5316\\u7cfb', u'\\u80fd\\u52a8\\u7cfb', u'\\u5de5\\u7269\\u7cfb', u'\\u6c34\\u5229\\u7cfb', u'\\u5468\\u57f9\\u6e90\\n\\u6570\\u5b66\\u4e2d\\u5fc3', u'\\u6c7d\\u8f66\\u7cfb', u'\\u6838\\u7814\\u9662', u'\\u836f\\u5b66\\u9662', u'\\u7f51\\u7edc\\u7814\\u7a76\\u9662', u'\\u673a\\u68b0\\u7cfb', u'\\u56fe\\u4e66\\u9986', u'\\u4f53\\u80b2\\u90e8', u'\\u5b66\\u751f\\u90e8']\n"
     ]
    }
   ],
   "source": [
    "dept = data[u'开课院系'].unique()\n",
    "print([x for x in dept])"
   ]
  },
  {
   "cell_type": "code",
   "execution_count": null,
   "metadata": {},
   "outputs": [],
   "source": []
  }
 ],
 "metadata": {
  "kernelspec": {
   "display_name": "Python 2",
   "language": "python",
   "name": "python2"
  },
  "language_info": {
   "codemirror_mode": {
    "name": "ipython",
    "version": 3
   },
   "file_extension": ".py",
   "mimetype": "text/x-python",
   "name": "python",
   "nbconvert_exporter": "python",
   "pygments_lexer": "ipython3",
   "version": "3.6.4"
  }
 },
 "nbformat": 4,
 "nbformat_minor": 2
}

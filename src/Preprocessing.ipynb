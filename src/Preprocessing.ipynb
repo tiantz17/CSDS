{
 "cells": [
  {
   "cell_type": "code",
   "execution_count": 3,
   "metadata": {},
   "outputs": [],
   "source": [
    "# -*- coding: utf-8 -*-\n",
    "import numpy as np\n",
    "import pandas as pd\n",
    "from CSDS.processing import *\n",
    "\n",
    "%load_ext autoreload\n",
    "%autoreload 2"
   ]
  },
  {
   "cell_type": "code",
   "execution_count": 44,
   "metadata": {},
   "outputs": [
    {
     "name": "stdout",
     "output_type": "stream",
     "text": [
      "开课院系\n",
      "课程号\n",
      "课序号\n",
      "课程名\n",
      "学分\n",
      "任课教师\n",
      "课容量\n",
      "上课时间\n",
      "上课周次\n",
      "课程特色\n",
      "选课说明\n"
     ]
    }
   ],
   "source": [
    "file_name = 'CSDS/data/2017-2018-2-graduate.xls'\n",
    "df = pd.read_excel(file_name, skiprows=1)\n",
    "df = df.dropna(axis=1,thresh=7)\n",
    "for j in df.columns:\n",
    "    print(j)\n",
    "    if (j == u'上课时间'):\n",
    "        for i in df.index:\n",
    "            #print(df[j][i])\n",
    "            #print(df[j][i].replace('\\n', ''))\n",
    "            #print(type(df[j][i].replace('\\n', '')))\n",
    "            try:\n",
    "                df.loc[i, j] = df[j][i].replace('\\n', ',')\n",
    "            except:\n",
    "                pass\n",
    "            #print(df.loc[i, j])\n",
    "            #print(type(df.loc[i, j]))\n",
    "    else:\n",
    "        for i in df.index:\n",
    "            try:\n",
    "                df.loc[i, j] = df[j][i].replace('\\n', '')\n",
    "            except:\n",
    "                pass"
   ]
  },
  {
   "cell_type": "code",
   "execution_count": 45,
   "metadata": {},
   "outputs": [],
   "source": [
    "# df.to_csv('CSDS/data/2017-2018-2-graduate-0.csv', sep='\\t', encoding='utf-8', index=False)"
   ]
  },
  {
   "cell_type": "code",
   "execution_count": 4,
   "metadata": {
    "scrolled": true
   },
   "outputs": [],
   "source": [
    "# open .csv directly\n",
    "file_name = 'CSDS/data/2017-2018-2-graduate-0.csv'\n",
    "data = pd.read_csv(file_name, sep='\\t')\n"
   ]
  },
  {
   "cell_type": "code",
   "execution_count": 47,
   "metadata": {},
   "outputs": [
    {
     "name": "stdout",
     "output_type": "stream",
     "text": [
      "<class 'pandas.core.frame.DataFrame'>\n",
      "Int64Index: 1328 entries, 0 to 1327\n",
      "Data columns (total 11 columns):\n",
      "开课院系    1328 non-null object\n",
      "课程号     1328 non-null object\n",
      "课序号     1328 non-null int64\n",
      "课程名     1328 non-null object\n",
      "学分      1328 non-null int64\n",
      "任课教师    1314 non-null object\n",
      "课容量     1328 non-null int64\n",
      "上课时间    1256 non-null object\n",
      "上课周次    1328 non-null object\n",
      "课程特色    205 non-null object\n",
      "选课说明    717 non-null object\n",
      "dtypes: int64(3), object(8)\n",
      "memory usage: 124.5+ KB\n"
     ]
    },
    {
     "data": {
      "text/html": [
       "<div>\n",
       "<table border=\"1\" class=\"dataframe\">\n",
       "  <thead>\n",
       "    <tr style=\"text-align: right;\">\n",
       "      <th></th>\n",
       "      <th>开课院系</th>\n",
       "      <th>课程号</th>\n",
       "      <th>课序号</th>\n",
       "      <th>课程名</th>\n",
       "      <th>学分</th>\n",
       "      <th>任课教师</th>\n",
       "      <th>课容量</th>\n",
       "      <th>上课时间</th>\n",
       "      <th>上课周次</th>\n",
       "      <th>课程特色</th>\n",
       "      <th>选课说明</th>\n",
       "    </tr>\n",
       "  </thead>\n",
       "  <tbody>\n",
       "    <tr>\n",
       "      <th>0</th>\n",
       "      <td>马克思主义学院</td>\n",
       "      <td>80680113</td>\n",
       "      <td>0</td>\n",
       "      <td>《德意志意识形态》研究</td>\n",
       "      <td>3</td>\n",
       "      <td>李成旺</td>\n",
       "      <td>20</td>\n",
       "      <td>34,35</td>\n",
       "      <td>全周</td>\n",
       "      <td>NaN</td>\n",
       "      <td>NaN</td>\n",
       "    </tr>\n",
       "    <tr>\n",
       "      <th>1</th>\n",
       "      <td>人文学院</td>\n",
       "      <td>80615503</td>\n",
       "      <td>0</td>\n",
       "      <td>《说文》导读（下）</td>\n",
       "      <td>3</td>\n",
       "      <td>赵平安</td>\n",
       "      <td>25</td>\n",
       "      <td>32</td>\n",
       "      <td>全周</td>\n",
       "      <td>NaN</td>\n",
       "      <td>NaN</td>\n",
       "    </tr>\n",
       "    <tr>\n",
       "      <th>2</th>\n",
       "      <td>人文学院</td>\n",
       "      <td>90610112</td>\n",
       "      <td>0</td>\n",
       "      <td>20世纪中西文学思潮比较专题</td>\n",
       "      <td>2</td>\n",
       "      <td>解志熙</td>\n",
       "      <td>25</td>\n",
       "      <td>42</td>\n",
       "      <td>全周</td>\n",
       "      <td>NaN</td>\n",
       "      <td>优先:人文学院学生选课</td>\n",
       "    </tr>\n",
       "    <tr>\n",
       "      <th>3</th>\n",
       "      <td>电子系</td>\n",
       "      <td>80230082</td>\n",
       "      <td>0</td>\n",
       "      <td>C/UNIX程序设计</td>\n",
       "      <td>2</td>\n",
       "      <td>汪玉</td>\n",
       "      <td>40</td>\n",
       "      <td>13</td>\n",
       "      <td>全周</td>\n",
       "      <td>NaN</td>\n",
       "      <td>先修C程序、操作系统</td>\n",
       "    </tr>\n",
       "    <tr>\n",
       "      <th>4</th>\n",
       "      <td>电子系</td>\n",
       "      <td>80230512</td>\n",
       "      <td>0</td>\n",
       "      <td>CDMA系统工程</td>\n",
       "      <td>2</td>\n",
       "      <td>粟欣</td>\n",
       "      <td>30</td>\n",
       "      <td>33</td>\n",
       "      <td>全周</td>\n",
       "      <td>NaN</td>\n",
       "      <td>先修通信原理、信号与系统</td>\n",
       "    </tr>\n",
       "  </tbody>\n",
       "</table>\n",
       "</div>"
      ],
      "text/plain": [
       "      开课院系       课程号  课序号             课程名  学分 任课教师  课容量   上课时间 上课周次 课程特色  \\\n",
       "0  马克思主义学院  80680113    0     《德意志意识形态》研究   3  李成旺   20  34,35   全周  NaN   \n",
       "1     人文学院  80615503    0       《说文》导读（下）   3  赵平安   25     32   全周  NaN   \n",
       "2     人文学院  90610112    0  20世纪中西文学思潮比较专题   2  解志熙   25     42   全周  NaN   \n",
       "3      电子系  80230082    0      C/UNIX程序设计   2   汪玉   40     13   全周  NaN   \n",
       "4      电子系  80230512    0        CDMA系统工程   2   粟欣   30     33   全周  NaN   \n",
       "\n",
       "           选课说明  \n",
       "0           NaN  \n",
       "1           NaN  \n",
       "2   优先:人文学院学生选课  \n",
       "3    先修C程序、操作系统  \n",
       "4  先修通信原理、信号与系统  "
      ]
     },
     "execution_count": 47,
     "metadata": {},
     "output_type": "execute_result"
    }
   ],
   "source": [
    "data.info()\n",
    "data.head()"
   ]
  },
  {
   "cell_type": "code",
   "execution_count": 48,
   "metadata": {},
   "outputs": [
    {
     "name": "stdout",
     "output_type": "stream",
     "text": [
      "Index([u'开课院系', u'课程号', u'课序号', u'课程名', u'学分', u'任课教师', u'课容量', u'上课时间',\n",
      "       u'上课周次', u'课程特色', u'选课说明'],\n",
      "      dtype='object')\n"
     ]
    }
   ],
   "source": [
    "print(data.columns)"
   ]
  },
  {
   "cell_type": "code",
   "execution_count": 11,
   "metadata": {},
   "outputs": [],
   "source": [
    "import os\n",
    "LTP_DATA_DIR = '/home/tiantingzhong/pyltp/ltp_data_v3.4.0/'  # ltp模型目录的路径\n",
    "cws_model_path = os.path.join(LTP_DATA_DIR, 'cws.model')  # 分词模型路径，模型名称为`cws.model`\n",
    "\n",
    "from pyltp import Segmentor\n",
    "segmentor = Segmentor() # 初始化实例\n",
    "segmentor.load(cws_model_path) # 加载模型"
   ]
  },
  {
   "cell_type": "code",
   "execution_count": 160,
   "metadata": {},
   "outputs": [],
   "source": [
    "strange = {}\n",
    "strange['！'] = ''\n",
    "strange['@'] = ''\n",
    "strange['#'] = ''\n",
    "strange['￥'] = ''\n",
    "strange['%'] = ''\n",
    "strange['……'] = ''\n",
    "strange['&'] = ''\n",
    "strange['*'] = ''\n",
    "strange['（'] = ''\n",
    "strange['）'] = ''\n",
    "strange['—'] = ''\n",
    "strange['——'] = ''\n",
    "strange['-'] = ''\n",
    "strange['='] = ''\n",
    "strange['【'] = ''\n",
    "strange['】'] = ''\n",
    "strange['{'] = ''\n",
    "strange['}'] = ''\n",
    "strange['、'] = ''\n",
    "strange['|'] = ''\n",
    "strange['：'] = ''\n",
    "strange['“'] = ''\n",
    "strange['”'] = ''\n",
    "strange['；'] = ''\n",
    "strange['‘'] = ''\n",
    "strange['’'] = ''\n",
    "strange['《'] = ''\n",
    "strange['》'] = ''\n",
    "strange['？'] = ''\n",
    "strange['，'] = ''\n",
    "strange['。'] = ''\n",
    "strange['、'] = ''\n",
    "strange['·'] = ''\n",
    "strange['~'] = ''\n",
    "strange['！'] = ''\n",
    "strange['@'] = ''\n",
    "strange['$'] = ''\n",
    "strange['^'] = ''\n",
    "strange['('] = ''\n",
    "strange[')'] = ''\n",
    "strange['_'] = ''\n",
    "strange['+'] = ''\n",
    "strange['['] = ''\n",
    "strange[']'] = ''\n",
    "strange['\\\\'] = ''\n",
    "strange[':'] = ''\n",
    "strange['\"'] = ''\n",
    "strange[';'] = ''\n",
    "strange[\"'\"] = ''\n",
    "strange['<'] = ''\n",
    "strange['>'] = ''\n",
    "strange['?'] = ''\n",
    "strange[','] = ''\n",
    "strange['.'] = ''\n",
    "strange['/'] = ''\n",
    "strange['`'] = ''\n",
    "strange['―'] = ''\n",
    "strange['－'] = ''\n",
    "strange[' '] = ''"
   ]
  },
  {
   "cell_type": "code",
   "execution_count": 166,
   "metadata": {},
   "outputs": [
    {
     "ename": "ModuleNotFoundError",
     "evalue": "No module named 'zhtools'",
     "output_type": "error",
     "traceback": [
      "\u001b[0;31m---------------------------------------------------------------------------\u001b[0m",
      "\u001b[0;31mModuleNotFoundError\u001b[0m                       Traceback (most recent call last)",
      "\u001b[0;32m~/AI/CSDS/langconv.py\u001b[0m in \u001b[0;36m<module>\u001b[0;34m()\u001b[0m\n\u001b[1;32m     13\u001b[0m \u001b[0;32mtry\u001b[0m\u001b[0;34m:\u001b[0m\u001b[0;34m\u001b[0m\u001b[0m\n\u001b[0;32m---> 14\u001b[0;31m     \u001b[0;32mfrom\u001b[0m \u001b[0mzh_wiki\u001b[0m \u001b[0;32mimport\u001b[0m \u001b[0mzh2Hant\u001b[0m\u001b[0;34m,\u001b[0m \u001b[0mzh2Hans\u001b[0m\u001b[0;34m\u001b[0m\u001b[0m\n\u001b[0m\u001b[1;32m     15\u001b[0m \u001b[0;32mexcept\u001b[0m \u001b[0mImportError\u001b[0m\u001b[0;34m:\u001b[0m\u001b[0;34m\u001b[0m\u001b[0m\n",
      "\u001b[0;31mModuleNotFoundError\u001b[0m: No module named 'zh_wiki'",
      "\nDuring handling of the above exception, another exception occurred:\n",
      "\u001b[0;31mModuleNotFoundError\u001b[0m                       Traceback (most recent call last)",
      "\u001b[0;32m<ipython-input-166-cba89cea6994>\u001b[0m in \u001b[0;36m<module>\u001b[0;34m()\u001b[0m\n\u001b[0;32m----> 1\u001b[0;31m \u001b[0;32mfrom\u001b[0m \u001b[0mCSDS\u001b[0m\u001b[0;34m.\u001b[0m\u001b[0mlangconv\u001b[0m \u001b[0;32mimport\u001b[0m \u001b[0;34m*\u001b[0m\u001b[0;34m\u001b[0m\u001b[0m\n\u001b[0m",
      "\u001b[0;32m~/AI/CSDS/langconv.py\u001b[0m in \u001b[0;36m<module>\u001b[0;34m()\u001b[0m\n\u001b[1;32m     14\u001b[0m     \u001b[0;32mfrom\u001b[0m \u001b[0mzh_wiki\u001b[0m \u001b[0;32mimport\u001b[0m \u001b[0mzh2Hant\u001b[0m\u001b[0;34m,\u001b[0m \u001b[0mzh2Hans\u001b[0m\u001b[0;34m\u001b[0m\u001b[0m\n\u001b[1;32m     15\u001b[0m \u001b[0;32mexcept\u001b[0m \u001b[0mImportError\u001b[0m\u001b[0;34m:\u001b[0m\u001b[0;34m\u001b[0m\u001b[0m\n\u001b[0;32m---> 16\u001b[0;31m     \u001b[0;32mfrom\u001b[0m \u001b[0mzhtools\u001b[0m\u001b[0;34m.\u001b[0m\u001b[0mzh_wiki\u001b[0m \u001b[0;32mimport\u001b[0m \u001b[0mzh2Hant\u001b[0m\u001b[0;34m,\u001b[0m \u001b[0mzh2Hans\u001b[0m\u001b[0;34m\u001b[0m\u001b[0m\n\u001b[0m\u001b[1;32m     17\u001b[0m \u001b[0;34m\u001b[0m\u001b[0m\n\u001b[1;32m     18\u001b[0m \u001b[0;32mimport\u001b[0m \u001b[0msys\u001b[0m\u001b[0;34m\u001b[0m\u001b[0m\n",
      "\u001b[0;31mModuleNotFoundError\u001b[0m: No module named 'zhtools'"
     ]
    }
   ],
   "source": [
    "from CSDS.langconv import *"
   ]
  },
  {
   "cell_type": "code",
   "execution_count": 153,
   "metadata": {},
   "outputs": [
    {
     "name": "stdout",
     "output_type": "stream",
     "text": [
      "博士生英语\t博士生,英语\n",
      "\n",
      "英语（第一外国语）\t英语第一外国语,英语,第一,外国语, 英语第一, 第一外国语\n",
      "\n",
      "研究生体育――游泳（女）\t研究生体育游泳女,研究生,体育,游泳,女, 研究生体育, 体育游泳, 游泳女, 研究生体育游泳, 体育游泳女\n",
      "\n",
      "自然辩证法概论\t自然,辩证法,概论, 自然辩证法, 辩证法概论\n",
      "\n",
      "研究生体育――游泳（男）\t研究生体育游泳男,研究生,体育,游泳,男, 研究生体育, 体育游泳, 游泳男, 研究生体育游泳, 体育游泳男\n",
      "\n",
      "初级汉语\t初级,汉语\n",
      "\n",
      "中国马克思主义与当代\t中国,马克思主义,与,当代, 中国马克思主义, 马克思主义与, 与当代, 中国马克思主义与, 马克思主义与当代\n",
      "\n",
      "行为金融学\t行为,金融学\n",
      "\n",
      "研究生体育--网球（男）\t研究生体育网球男,研究生,体育,网球,男, 研究生体育, 体育网球, 网球男, 研究生体育网球, 体育网球男\n",
      "\n",
      "公共政策分析（MPA）\t公共政策分析MPA,公共,政策,分析,MPA, 公共政策, 政策分析, 分析MPA, 公共政策分析, 政策分析MPA\n",
      "\n"
     ]
    }
   ],
   "source": [
    "#import re\n",
    "dept = data['课程名'].value_counts(dropna=False)\n",
    "for i in dept.index[0:10]:\n",
    "    temp = i\n",
    "    for key in strange:\n",
    "        temp = temp.replace(key, strange[key])\n",
    "    #print(i, temp)\n",
    "    words = segmentor.segment(temp)  # 分词\n",
    "    print(i, end='\\t')\n",
    "    if (i != temp):\n",
    "        print(temp, end=',')\n",
    "    print(','.join(words), end='')\n",
    "    for j in range(2, len(words)):\n",
    "        for k in range(len(words) - j + 1):\n",
    "            print(',', ''.join(words[k:k+j]), end='')\n",
    "    print('\\n')\n",
    "    "
   ]
  },
  {
   "cell_type": "code",
   "execution_count": 110,
   "metadata": {},
   "outputs": [
    {
     "name": "stdout",
     "output_type": "stream",
     "text": [
      "英语（第一外国语）\n",
      "英语第一外国语\n"
     ]
    }
   ],
   "source": [
    "temp = dept.index[1]\n",
    "print(temp)\n",
    "for key in strange:\n",
    "    temp = temp.replace(key, strange[key])\n",
    "print(temp)"
   ]
  },
  {
   "cell_type": "code",
   "execution_count": null,
   "metadata": {},
   "outputs": [],
   "source": [
    "segmentor.release()  # 释放模型"
   ]
  },
  {
   "cell_type": "code",
   "execution_count": 161,
   "metadata": {},
   "outputs": [],
   "source": [
    "fo = open('CSDS/data/coursename', 'w')\n",
    "dept = data['课程名'].value_counts(dropna=False)\n",
    "for i in dept.index:\n",
    "    if i is np.nan:\n",
    "        continue\n",
    "    fo.write('coursename\\t')\n",
    "    temp = i\n",
    "    for key in strange:\n",
    "        temp = temp.replace(key, strange[key])\n",
    "    #print(i, temp)\n",
    "    words = segmentor.segment(temp)  # 分词\n",
    "    fo.write(i)\n",
    "    fo.write('\\t')\n",
    "    if (i != temp):\n",
    "        fo.write(temp)\n",
    "        fo.write(',')\n",
    "    fo.write(','.join(words))\n",
    "    for j in range(2, len(words)):\n",
    "        for k in range(len(words) - j + 1):\n",
    "            fo.write(',')\n",
    "            fo.write(''.join(words[k:k+j]))\n",
    "    fo.write('\\n')\n",
    "fo.close()"
   ]
  },
  {
   "cell_type": "code",
   "execution_count": 7,
   "metadata": {},
   "outputs": [
    {
     "data": {
      "text/plain": [
       "(1133,)"
      ]
     },
     "execution_count": 7,
     "metadata": {},
     "output_type": "execute_result"
    }
   ],
   "source": [
    "dept.shape"
   ]
  },
  {
   "cell_type": "code",
   "execution_count": 21,
   "metadata": {},
   "outputs": [
    {
     "name": "stdout",
     "output_type": "stream",
     "text": [
      "博士生英语\n"
     ]
    }
   ],
   "source": [
    "name = data['课程名']\n",
    "name_count = name.value_counts(dropna=False)\n",
    "print(name_count.index[0])"
   ]
  }
 ],
 "metadata": {
  "kernelspec": {
   "display_name": "Python 3",
   "language": "python",
   "name": "python3"
  },
  "language_info": {
   "codemirror_mode": {
    "name": "ipython",
    "version": 3
   },
   "file_extension": ".py",
   "mimetype": "text/x-python",
   "name": "python",
   "nbconvert_exporter": "python",
   "pygments_lexer": "ipython3",
   "version": "3.6.4"
  }
 },
 "nbformat": 4,
 "nbformat_minor": 2
}
